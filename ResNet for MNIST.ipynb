{
 "cells": [
  {
   "cell_type": "code",
   "execution_count": 44,
   "metadata": {
    "ExecuteTime": {
     "end_time": "2019-09-04T17:17:25.778070Z",
     "start_time": "2019-09-04T17:17:25.772053Z"
    }
   },
   "outputs": [],
   "source": [
    "import pickle\n",
    "import gzip\n",
    "import torch \n",
    "import numpy as np\n",
    "import torch.nn as nn\n",
    "import torch.nn.functional as F\n",
    "from torch import optim\n",
    "from torch.utils.data import TensorDataset\n",
    "from torch.utils.data import DataLoader"
   ]
  },
  {
   "cell_type": "code",
   "execution_count": 2,
   "metadata": {
    "ExecuteTime": {
     "end_time": "2019-09-04T17:08:00.677403Z",
     "start_time": "2019-09-04T17:08:00.670385Z"
    }
   },
   "outputs": [],
   "source": [
    "PATH = './data/mnist/'\n",
    "FILENAME = 'mnist.pkl.gz'"
   ]
  },
  {
   "cell_type": "code",
   "execution_count": 3,
   "metadata": {
    "ExecuteTime": {
     "end_time": "2019-09-04T17:08:00.691441Z",
     "start_time": "2019-09-04T17:08:00.681415Z"
    }
   },
   "outputs": [],
   "source": [
    "def get_files(path,filename):\n",
    "    with gzip.open((PATH + FILENAME), \"rb\") as file:\n",
    "        ((x_train, y_train), (x_val, y_val), _) = pickle.load(file, encoding='latin-1')\n",
    "    return x_train, y_train, x_val, y_val"
   ]
  },
  {
   "cell_type": "code",
   "execution_count": 4,
   "metadata": {
    "ExecuteTime": {
     "end_time": "2019-09-04T17:08:00.704476Z",
     "start_time": "2019-09-04T17:08:00.694449Z"
    }
   },
   "outputs": [],
   "source": [
    "def tensor_map(x_train,y_train,x_val,y_val): return map(torch.tensor,(x_train,y_train,x_val,y_val))"
   ]
  },
  {
   "cell_type": "code",
   "execution_count": 5,
   "metadata": {
    "ExecuteTime": {
     "end_time": "2019-09-04T17:08:00.715505Z",
     "start_time": "2019-09-04T17:08:00.707484Z"
    }
   },
   "outputs": [],
   "source": [
    "def preprocess(x):\n",
    "    return x.view(-1, 1, 28, 28)"
   ]
  },
  {
   "cell_type": "code",
   "execution_count": 6,
   "metadata": {
    "ExecuteTime": {
     "end_time": "2019-09-04T17:08:00.727537Z",
     "start_time": "2019-09-04T17:08:00.718513Z"
    }
   },
   "outputs": [],
   "source": [
    "def conv(in_size, out_size, pad=1): \n",
    "    return nn.Conv2d(in_size, out_size, kernel_size=3, stride=2, padding=pad)"
   ]
  },
  {
   "cell_type": "code",
   "execution_count": 7,
   "metadata": {
    "ExecuteTime": {
     "end_time": "2019-09-04T17:08:00.753607Z",
     "start_time": "2019-09-04T17:08:00.730546Z"
    }
   },
   "outputs": [],
   "source": [
    "class ResBlock(nn.Module):\n",
    "    \n",
    "    def __init__(self, in_size:int, hidden_size:int, out_size:int, pad:int):\n",
    "        super().__init__()\n",
    "        self.conv1 = conv(in_size, hidden_size, pad)\n",
    "        self.conv2 = conv(hidden_size, out_size, pad)\n",
    "        self.batchnorm1 = nn.BatchNorm2d(hidden_size)\n",
    "        self.batchnorm2 = nn.BatchNorm2d(out_size)\n",
    "    \n",
    "    def convblock(self, x):\n",
    "        x = F.relu(self.batchnorm1(self.conv1(x)))\n",
    "        x = F.relu(self.batchnorm2(self.conv2(x)))\n",
    "        return x\n",
    "    \n",
    "    def forward(self, x): return x + self.convblock(x) # skip connection"
   ]
  },
  {
   "cell_type": "code",
   "execution_count": 8,
   "metadata": {
    "ExecuteTime": {
     "end_time": "2019-09-04T17:08:00.776667Z",
     "start_time": "2019-09-04T17:08:00.758621Z"
    }
   },
   "outputs": [],
   "source": [
    "class ResNet(nn.Module):\n",
    "    \n",
    "    def __init__(self, n_classes=10):\n",
    "        super().__init__()\n",
    "        self.res1 = ResBlock(1, 8, 16, 15)\n",
    "        self.res2 = ResBlock(16, 32, 16, 15)\n",
    "        self.conv = conv(16, n_classes)\n",
    "        self.batchnorm = nn.BatchNorm2d(n_classes)\n",
    "        self.maxpool = nn.AdaptiveMaxPool2d(1)\n",
    "        \n",
    "    def forward(self, x):\n",
    "        x = preprocess(x)\n",
    "        x = self.res1(x)\n",
    "        x = self.res2(x) \n",
    "        x = self.maxpool(self.batchnorm(self.conv(x))) # remove (1,1) grid to get vector of length 10\n",
    "        return x.view(x.size(0), -1)"
   ]
  },
  {
   "cell_type": "code",
   "execution_count": 25,
   "metadata": {
    "ExecuteTime": {
     "end_time": "2019-09-04T17:11:59.782810Z",
     "start_time": "2019-09-04T17:11:59.775791Z"
    }
   },
   "outputs": [],
   "source": [
    "def loss_batch(model, loss_func, xb, yb, opt=None, scheduler=None):\n",
    "    loss = loss_func(model(xb), yb)\n",
    "    if opt is not None:\n",
    "        loss.backward()\n",
    "        if scheduler is not None:\n",
    "            scheduler.step()\n",
    "        opt.step()\n",
    "        opt.zero_grad()\n",
    "        \n",
    "    return loss.item(), len(xb)"
   ]
  },
  {
   "cell_type": "code",
   "execution_count": 40,
   "metadata": {
    "ExecuteTime": {
     "end_time": "2019-09-04T17:16:22.225416Z",
     "start_time": "2019-09-04T17:16:22.220402Z"
    },
    "code_folding": []
   },
   "outputs": [],
   "source": [
    "def get_model():\n",
    "    model = ResNet()\n",
    "    optimizer = optim.SGD(model.parameters(), lr=lr, momentum=0.9)\n",
    "    return model, optimizer"
   ]
  },
  {
   "cell_type": "code",
   "execution_count": 11,
   "metadata": {
    "ExecuteTime": {
     "end_time": "2019-09-04T17:08:00.823793Z",
     "start_time": "2019-09-04T17:08:00.811762Z"
    }
   },
   "outputs": [],
   "source": [
    "def accuracy(out, yb):\n",
    "    preds = torch.argmax(out, dim=1)\n",
    "    return (preds == yb).float().mean()"
   ]
  },
  {
   "cell_type": "code",
   "execution_count": null,
   "metadata": {
    "ExecuteTime": {
     "end_time": "2019-09-04T17:28:04.775336Z",
     "start_time": "2019-09-04T17:26:40.569Z"
    }
   },
   "outputs": [],
   "source": [
    "def get_data_batches(train_ds, valid_ds, bs):\n",
    "    return (\n",
    "        DataLoader(train_ds, batch_size=bs, shuffle=True),\n",
    "        DataLoader(valid_ds, batch_size=bs * 2),\n",
    "    )"
   ]
  },
  {
   "cell_type": "code",
   "execution_count": 54,
   "metadata": {
    "ExecuteTime": {
     "end_time": "2019-09-04T17:33:24.098109Z",
     "start_time": "2019-09-04T17:33:24.087081Z"
    }
   },
   "outputs": [],
   "source": [
    "def fit(epochs, model, loss_func, opt, train_dl, valid_dl, scheduler=None):\n",
    "    for epoch in range(epochs):\n",
    "        model.train()\n",
    "        for xb, yb in train_dl:\n",
    "            loss_batch(model, loss_func, xb, yb, opt, scheduler)\n",
    "\n",
    "        model.eval()\n",
    "        with torch.no_grad():\n",
    "            losses, nums = zip(\n",
    "                *[loss_batch(model, loss_func, xb, yb) for xb, yb in valid_dl]\n",
    "            )\n",
    "        \n",
    "        val_loss = np.sum(np.multiply(losses, nums)) / np.sum(nums)\n",
    "\n",
    "        print(epoch, val_loss)"
   ]
  },
  {
   "cell_type": "code",
   "execution_count": 15,
   "metadata": {
    "ExecuteTime": {
     "end_time": "2019-09-04T17:08:02.557401Z",
     "start_time": "2019-09-04T17:08:00.890972Z"
    }
   },
   "outputs": [],
   "source": [
    "x_train, y_train, x_val, y_val = get_files(PATH, FILENAME)"
   ]
  },
  {
   "cell_type": "code",
   "execution_count": 16,
   "metadata": {
    "ExecuteTime": {
     "end_time": "2019-09-04T17:08:02.663684Z",
     "start_time": "2019-09-04T17:08:02.560410Z"
    }
   },
   "outputs": [],
   "source": [
    "x_train, y_train, x_val, y_val = tensor_map(x_train, y_train, x_val, y_val)"
   ]
  },
  {
   "cell_type": "code",
   "execution_count": 18,
   "metadata": {
    "ExecuteTime": {
     "end_time": "2019-09-04T17:08:03.154991Z",
     "start_time": "2019-09-04T17:08:03.144964Z"
    }
   },
   "outputs": [],
   "source": [
    "train_ds = TensorDataset(x_train, y_train)\n",
    "val_ds = TensorDataset(x_val, y_val)\n",
    "train_dl, val_dl = get_data_batches(train_ds, val_ds, bs)"
   ]
  },
  {
   "cell_type": "code",
   "execution_count": 52,
   "metadata": {
    "ExecuteTime": {
     "end_time": "2019-09-04T17:28:20.830468Z",
     "start_time": "2019-09-04T17:28:20.826456Z"
    }
   },
   "outputs": [],
   "source": [
    "bs=64\n",
    "lr=0.01\n",
    "loss_func = F.cross_entropy"
   ]
  },
  {
   "cell_type": "code",
   "execution_count": 53,
   "metadata": {
    "ExecuteTime": {
     "end_time": "2019-09-04T17:28:21.413014Z",
     "start_time": "2019-09-04T17:28:21.405996Z"
    }
   },
   "outputs": [],
   "source": [
    "model, opt = get_model()"
   ]
  },
  {
   "cell_type": "code",
   "execution_count": 55,
   "metadata": {
    "ExecuteTime": {
     "end_time": "2019-09-04T18:14:59.762916Z",
     "start_time": "2019-09-04T17:33:26.982779Z"
    }
   },
   "outputs": [
    {
     "name": "stdout",
     "output_type": "stream",
     "text": [
      "0 0.2162591547846794\n",
      "1 0.13687330031245948\n",
      "2 0.14416173471733928\n",
      "3 0.10076363628059626\n",
      "4 0.07622794383913278\n"
     ]
    }
   ],
   "source": [
    "fit(5, model, loss_func, opt, train_dl, val_dl)"
   ]
  }
 ],
 "metadata": {
  "hide_input": false,
  "kernelspec": {
   "display_name": "Python 3",
   "language": "python",
   "name": "python3"
  },
  "language_info": {
   "codemirror_mode": {
    "name": "ipython",
    "version": 3
   },
   "file_extension": ".py",
   "mimetype": "text/x-python",
   "name": "python",
   "nbconvert_exporter": "python",
   "pygments_lexer": "ipython3",
   "version": "3.7.3"
  },
  "latex_envs": {
   "LaTeX_envs_menu_present": true,
   "autoclose": false,
   "autocomplete": true,
   "bibliofile": "biblio.bib",
   "cite_by": "apalike",
   "current_citInitial": 1,
   "eqLabelWithNumbers": true,
   "eqNumInitial": 1,
   "hotkeys": {
    "equation": "Ctrl-E",
    "itemize": "Ctrl-I"
   },
   "labels_anchors": false,
   "latex_user_defs": false,
   "report_style_numbering": false,
   "user_envs_cfg": false
  },
  "toc": {
   "base_numbering": 1,
   "nav_menu": {},
   "number_sections": true,
   "sideBar": true,
   "skip_h1_title": false,
   "title_cell": "Table of Contents",
   "title_sidebar": "Contents",
   "toc_cell": false,
   "toc_position": {},
   "toc_section_display": true,
   "toc_window_display": false
  },
  "varInspector": {
   "cols": {
    "lenName": 16,
    "lenType": 16,
    "lenVar": 40
   },
   "kernels_config": {
    "python": {
     "delete_cmd_postfix": "",
     "delete_cmd_prefix": "del ",
     "library": "var_list.py",
     "varRefreshCmd": "print(var_dic_list())"
    },
    "r": {
     "delete_cmd_postfix": ") ",
     "delete_cmd_prefix": "rm(",
     "library": "var_list.r",
     "varRefreshCmd": "cat(var_dic_list()) "
    }
   },
   "types_to_exclude": [
    "module",
    "function",
    "builtin_function_or_method",
    "instance",
    "_Feature"
   ],
   "window_display": false
  }
 },
 "nbformat": 4,
 "nbformat_minor": 2
}
